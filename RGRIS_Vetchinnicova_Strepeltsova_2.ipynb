{
 "cells": [
  {
   "cell_type": "markdown",
   "metadata": {},
   "source": [
    "# Использование сегмента базы знаний, сформированного в первой части работы"
   ]
  },
  {
   "cell_type": "markdown",
   "metadata": {},
   "source": [
    "# Цель работы\n",
    "Разработка проекта сегмента базы знаний интеллектуальной системы, содержащей набор моделей, сформированных с помощью различных методов машинного обучения (модели линейной множественной регрессии, деревья решений, нейронные сети). \n",
    "\n",
    "Знакомство с технологией пополнения базы знаний и её использования."
   ]
  },
  {
   "cell_type": "code",
   "execution_count": 1,
   "metadata": {},
   "outputs": [],
   "source": [
    "import pandas as pd\n",
    "import numpy as np\n",
    "\n",
    "###import pybrain as pb\n",
    "from pybrain.tools.shortcuts import buildNetwork\n",
    "from pybrain.supervised.trainers import BackpropTrainer\n",
    "from pybrain.datasets import SupervisedDataSet\n",
    "from pybrain.structure import SigmoidLayer\n",
    "from pybrain.structure import LinearLayer\n",
    "from pybrain.structure import SoftmaxLayer\n",
    "\n",
    "from sklearn import linear_model\n",
    "from sklearn import tree\n",
    "from sklearn import metrics\n",
    "from sklearn import preprocessing\n",
    "from sklearn.model_selection import train_test_split, cross_val_score\n",
    "\n",
    "from sklearn.preprocessing import MinMaxScaler\n",
    "from sklearn.preprocessing import Normalizer\n",
    "\n",
    "import pickle\n",
    "import json\n",
    "\n",
    "import seaborn as sns; sns.set()\n",
    "import matplotlib.pyplot as plt\n",
    "from sklearn.tree import export_graphviz\n",
    "\n",
    "pd.set_option('display.precision', 3);\n",
    "%matplotlib inline\n",
    "\n",
    "import numpy as np\n",
    "from scipy.stats import norm\n",
    "from sklearn.linear_model import LinearRegression\n",
    "import json"
   ]
  },
  {
   "cell_type": "markdown",
   "metadata": {},
   "source": [
    "## Загрузка проверочной части таблицы"
   ]
  },
  {
   "cell_type": "code",
   "execution_count": 8,
   "metadata": {},
   "outputs": [],
   "source": [
    "dataTEST = pd.read_csv(\"ds_test.csv\", # путь к файлу, используй автодотолнение\n",
    "                   sep=',', # разделитель данных в файле\n",
    "                   header=0 # номер строки с заголовками. header='None', если заголовки отсутствуют\n",
    "                  )\n",
    "dataTEST_Norm = pd.read_csv(\"dsNorm_test.csv\", # путь к файлу, используй автодотолнение\n",
    "                   sep=',', # разделитель данных в файле\n",
    "                   header=0 # номер строки с заголовками. header='None', если заголовки отсутствуют\n",
    "                  )"
   ]
  },
  {
   "cell_type": "code",
   "execution_count": 9,
   "metadata": {},
   "outputs": [
    {
     "data": {
      "text/plain": [
       "(5208, 18)"
      ]
     },
     "execution_count": 9,
     "metadata": {},
     "output_type": "execute_result"
    }
   ],
   "source": [
    "dataTEST.shape"
   ]
  },
  {
   "cell_type": "code",
   "execution_count": 10,
   "metadata": {},
   "outputs": [
    {
     "data": {
      "text/plain": [
       "Index([u'Unnamed: 0', u'instant', u'dteday', u'season', u'yr', u'mnth', u'hr',\n",
       "       u'holiday', u'weekday', u'workingday', u'weathersit', u'temp', u'atemp',\n",
       "       u'hum', u'windspeed', u'casual', u'registered', u'cnt'],\n",
       "      dtype='object')"
      ]
     },
     "execution_count": 10,
     "metadata": {},
     "output_type": "execute_result"
    }
   ],
   "source": [
    "dataTEST.columns"
   ]
  },
  {
   "cell_type": "code",
   "execution_count": 11,
   "metadata": {},
   "outputs": [],
   "source": [
    "features = [ u'temp', u'hr', u'hum']\n",
    "target = [u'cnt']"
   ]
  },
  {
   "cell_type": "code",
   "execution_count": 12,
   "metadata": {},
   "outputs": [
    {
     "data": {
      "text/html": [
       "<div>\n",
       "<style scoped>\n",
       "    .dataframe tbody tr th:only-of-type {\n",
       "        vertical-align: middle;\n",
       "    }\n",
       "\n",
       "    .dataframe tbody tr th {\n",
       "        vertical-align: top;\n",
       "    }\n",
       "\n",
       "    .dataframe thead th {\n",
       "        text-align: right;\n",
       "    }\n",
       "</style>\n",
       "<table border=\"1\" class=\"dataframe\">\n",
       "  <thead>\n",
       "    <tr style=\"text-align: right;\">\n",
       "      <th></th>\n",
       "      <th>Unnamed: 0</th>\n",
       "      <th>instant</th>\n",
       "      <th>dteday</th>\n",
       "      <th>season</th>\n",
       "      <th>yr</th>\n",
       "      <th>mnth</th>\n",
       "      <th>hr</th>\n",
       "      <th>holiday</th>\n",
       "      <th>weekday</th>\n",
       "      <th>workingday</th>\n",
       "      <th>weathersit</th>\n",
       "      <th>temp</th>\n",
       "      <th>atemp</th>\n",
       "      <th>hum</th>\n",
       "      <th>windspeed</th>\n",
       "      <th>casual</th>\n",
       "      <th>registered</th>\n",
       "      <th>cnt</th>\n",
       "    </tr>\n",
       "  </thead>\n",
       "  <tbody>\n",
       "    <tr>\n",
       "      <th>0</th>\n",
       "      <td>268</td>\n",
       "      <td>269</td>\n",
       "      <td>2011-01-12</td>\n",
       "      <td>1</td>\n",
       "      <td>0</td>\n",
       "      <td>1</td>\n",
       "      <td>15</td>\n",
       "      <td>0</td>\n",
       "      <td>3</td>\n",
       "      <td>1</td>\n",
       "      <td>1</td>\n",
       "      <td>0.20</td>\n",
       "      <td>0.167</td>\n",
       "      <td>0.47</td>\n",
       "      <td>0.418</td>\n",
       "      <td>1</td>\n",
       "      <td>48</td>\n",
       "      <td>49</td>\n",
       "    </tr>\n",
       "    <tr>\n",
       "      <th>1</th>\n",
       "      <td>6494</td>\n",
       "      <td>6495</td>\n",
       "      <td>2011-10-03</td>\n",
       "      <td>4</td>\n",
       "      <td>0</td>\n",
       "      <td>10</td>\n",
       "      <td>4</td>\n",
       "      <td>0</td>\n",
       "      <td>1</td>\n",
       "      <td>1</td>\n",
       "      <td>1</td>\n",
       "      <td>0.34</td>\n",
       "      <td>0.348</td>\n",
       "      <td>0.87</td>\n",
       "      <td>0.104</td>\n",
       "      <td>2</td>\n",
       "      <td>6</td>\n",
       "      <td>8</td>\n",
       "    </tr>\n",
       "  </tbody>\n",
       "</table>\n",
       "</div>"
      ],
      "text/plain": [
       "   Unnamed: 0  instant      dteday  season  yr  mnth  hr  holiday  weekday  \\\n",
       "0         268      269  2011-01-12       1   0     1  15        0        3   \n",
       "1        6494     6495  2011-10-03       4   0    10   4        0        1   \n",
       "\n",
       "   workingday  weathersit  temp  atemp   hum  windspeed  casual  registered  \\\n",
       "0           1           1  0.20  0.167  0.47      0.418       1          48   \n",
       "1           1           1  0.34  0.348  0.87      0.104       2           6   \n",
       "\n",
       "   cnt  \n",
       "0   49  \n",
       "1    8  "
      ]
     },
     "execution_count": 12,
     "metadata": {},
     "output_type": "execute_result"
    }
   ],
   "source": [
    "dataTEST[:2]"
   ]
  },
  {
   "cell_type": "code",
   "execution_count": 13,
   "metadata": {},
   "outputs": [
    {
     "data": {
      "text/html": [
       "<div>\n",
       "<style scoped>\n",
       "    .dataframe tbody tr th:only-of-type {\n",
       "        vertical-align: middle;\n",
       "    }\n",
       "\n",
       "    .dataframe tbody tr th {\n",
       "        vertical-align: top;\n",
       "    }\n",
       "\n",
       "    .dataframe thead th {\n",
       "        text-align: right;\n",
       "    }\n",
       "</style>\n",
       "<table border=\"1\" class=\"dataframe\">\n",
       "  <thead>\n",
       "    <tr style=\"text-align: right;\">\n",
       "      <th></th>\n",
       "      <th>Unnamed: 0</th>\n",
       "      <th>instant</th>\n",
       "      <th>season</th>\n",
       "      <th>yr</th>\n",
       "      <th>mnth</th>\n",
       "      <th>hr</th>\n",
       "      <th>holiday</th>\n",
       "      <th>weekday</th>\n",
       "      <th>workingday</th>\n",
       "      <th>weathersit</th>\n",
       "      <th>temp</th>\n",
       "      <th>atemp</th>\n",
       "      <th>hum</th>\n",
       "      <th>windspeed</th>\n",
       "      <th>casual</th>\n",
       "      <th>registered</th>\n",
       "      <th>dteday_v</th>\n",
       "      <th>cnt</th>\n",
       "    </tr>\n",
       "  </thead>\n",
       "  <tbody>\n",
       "    <tr>\n",
       "      <th>0</th>\n",
       "      <td>0.574</td>\n",
       "      <td>0.574</td>\n",
       "      <td>0.667</td>\n",
       "      <td>0.0</td>\n",
       "      <td>0.545</td>\n",
       "      <td>0.217</td>\n",
       "      <td>0.0</td>\n",
       "      <td>1.0</td>\n",
       "      <td>0.0</td>\n",
       "      <td>0.0</td>\n",
       "      <td>0.673</td>\n",
       "      <td>0.683</td>\n",
       "      <td>0.750</td>\n",
       "      <td>0.204</td>\n",
       "      <td>0.011</td>\n",
       "      <td>0.014</td>\n",
       "      <td>0.573</td>\n",
       "      <td>0.017</td>\n",
       "    </tr>\n",
       "    <tr>\n",
       "      <th>1</th>\n",
       "      <td>0.975</td>\n",
       "      <td>0.975</td>\n",
       "      <td>0.000</td>\n",
       "      <td>0.0</td>\n",
       "      <td>1.000</td>\n",
       "      <td>0.783</td>\n",
       "      <td>0.0</td>\n",
       "      <td>1.0</td>\n",
       "      <td>0.0</td>\n",
       "      <td>0.0</td>\n",
       "      <td>0.245</td>\n",
       "      <td>0.217</td>\n",
       "      <td>0.333</td>\n",
       "      <td>0.574</td>\n",
       "      <td>0.019</td>\n",
       "      <td>0.102</td>\n",
       "      <td>0.975</td>\n",
       "      <td>0.107</td>\n",
       "    </tr>\n",
       "  </tbody>\n",
       "</table>\n",
       "</div>"
      ],
      "text/plain": [
       "   Unnamed: 0  instant  season   yr   mnth     hr  holiday  weekday  \\\n",
       "0       0.574    0.574   0.667  0.0  0.545  0.217      0.0      1.0   \n",
       "1       0.975    0.975   0.000  0.0  1.000  0.783      0.0      1.0   \n",
       "\n",
       "   workingday  weathersit   temp  atemp    hum  windspeed  casual  registered  \\\n",
       "0         0.0         0.0  0.673  0.683  0.750      0.204   0.011       0.014   \n",
       "1         0.0         0.0  0.245  0.217  0.333      0.574   0.019       0.102   \n",
       "\n",
       "   dteday_v    cnt  \n",
       "0     0.573  0.017  \n",
       "1     0.975  0.107  "
      ]
     },
     "execution_count": 13,
     "metadata": {},
     "output_type": "execute_result"
    }
   ],
   "source": [
    "dataTEST_Norm[:2]"
   ]
  },
  {
   "cell_type": "code",
   "execution_count": 14,
   "metadata": {},
   "outputs": [
    {
     "data": {
      "text/html": [
       "<div>\n",
       "<style scoped>\n",
       "    .dataframe tbody tr th:only-of-type {\n",
       "        vertical-align: middle;\n",
       "    }\n",
       "\n",
       "    .dataframe tbody tr th {\n",
       "        vertical-align: top;\n",
       "    }\n",
       "\n",
       "    .dataframe thead th {\n",
       "        text-align: right;\n",
       "    }\n",
       "</style>\n",
       "<table border=\"1\" class=\"dataframe\">\n",
       "  <thead>\n",
       "    <tr style=\"text-align: right;\">\n",
       "      <th></th>\n",
       "      <th>Unnamed: 0</th>\n",
       "      <th>instant</th>\n",
       "      <th>season</th>\n",
       "      <th>yr</th>\n",
       "      <th>mnth</th>\n",
       "      <th>hr</th>\n",
       "      <th>holiday</th>\n",
       "      <th>weekday</th>\n",
       "      <th>workingday</th>\n",
       "      <th>weathersit</th>\n",
       "      <th>temp</th>\n",
       "      <th>atemp</th>\n",
       "      <th>hum</th>\n",
       "      <th>windspeed</th>\n",
       "      <th>casual</th>\n",
       "      <th>registered</th>\n",
       "      <th>cnt</th>\n",
       "    </tr>\n",
       "  </thead>\n",
       "  <tbody>\n",
       "    <tr>\n",
       "      <th>count</th>\n",
       "      <td>5208.000</td>\n",
       "      <td>5208.000</td>\n",
       "      <td>5208.000</td>\n",
       "      <td>5208.000</td>\n",
       "      <td>5208.000</td>\n",
       "      <td>5208.000</td>\n",
       "      <td>5208.000</td>\n",
       "      <td>5208.000</td>\n",
       "      <td>5208.000</td>\n",
       "      <td>5208.000</td>\n",
       "      <td>5208.000</td>\n",
       "      <td>5208.000</td>\n",
       "      <td>5208.000</td>\n",
       "      <td>5208.000</td>\n",
       "      <td>5208.000</td>\n",
       "      <td>5208.000</td>\n",
       "      <td>5208.000</td>\n",
       "    </tr>\n",
       "    <tr>\n",
       "      <th>mean</th>\n",
       "      <td>8692.476</td>\n",
       "      <td>8693.476</td>\n",
       "      <td>2.501</td>\n",
       "      <td>0.503</td>\n",
       "      <td>6.534</td>\n",
       "      <td>11.486</td>\n",
       "      <td>0.031</td>\n",
       "      <td>3.011</td>\n",
       "      <td>0.676</td>\n",
       "      <td>1.417</td>\n",
       "      <td>0.497</td>\n",
       "      <td>0.475</td>\n",
       "      <td>0.630</td>\n",
       "      <td>0.191</td>\n",
       "      <td>35.295</td>\n",
       "      <td>150.922</td>\n",
       "      <td>186.217</td>\n",
       "    </tr>\n",
       "    <tr>\n",
       "      <th>std</th>\n",
       "      <td>5016.759</td>\n",
       "      <td>5016.759</td>\n",
       "      <td>1.110</td>\n",
       "      <td>0.500</td>\n",
       "      <td>3.453</td>\n",
       "      <td>6.981</td>\n",
       "      <td>0.173</td>\n",
       "      <td>2.018</td>\n",
       "      <td>0.468</td>\n",
       "      <td>0.634</td>\n",
       "      <td>0.194</td>\n",
       "      <td>0.173</td>\n",
       "      <td>0.193</td>\n",
       "      <td>0.124</td>\n",
       "      <td>48.677</td>\n",
       "      <td>150.770</td>\n",
       "      <td>180.914</td>\n",
       "    </tr>\n",
       "    <tr>\n",
       "      <th>min</th>\n",
       "      <td>11.000</td>\n",
       "      <td>12.000</td>\n",
       "      <td>1.000</td>\n",
       "      <td>0.000</td>\n",
       "      <td>1.000</td>\n",
       "      <td>0.000</td>\n",
       "      <td>0.000</td>\n",
       "      <td>0.000</td>\n",
       "      <td>0.000</td>\n",
       "      <td>1.000</td>\n",
       "      <td>0.020</td>\n",
       "      <td>0.000</td>\n",
       "      <td>0.100</td>\n",
       "      <td>0.000</td>\n",
       "      <td>0.000</td>\n",
       "      <td>0.000</td>\n",
       "      <td>1.000</td>\n",
       "    </tr>\n",
       "    <tr>\n",
       "      <th>25%</th>\n",
       "      <td>4406.250</td>\n",
       "      <td>4407.250</td>\n",
       "      <td>2.000</td>\n",
       "      <td>0.000</td>\n",
       "      <td>4.000</td>\n",
       "      <td>5.000</td>\n",
       "      <td>0.000</td>\n",
       "      <td>1.000</td>\n",
       "      <td>0.000</td>\n",
       "      <td>1.000</td>\n",
       "      <td>0.340</td>\n",
       "      <td>0.333</td>\n",
       "      <td>0.480</td>\n",
       "      <td>0.104</td>\n",
       "      <td>4.000</td>\n",
       "      <td>32.000</td>\n",
       "      <td>38.000</td>\n",
       "    </tr>\n",
       "    <tr>\n",
       "      <th>50%</th>\n",
       "      <td>8711.500</td>\n",
       "      <td>8712.500</td>\n",
       "      <td>3.000</td>\n",
       "      <td>1.000</td>\n",
       "      <td>7.000</td>\n",
       "      <td>12.000</td>\n",
       "      <td>0.000</td>\n",
       "      <td>3.000</td>\n",
       "      <td>1.000</td>\n",
       "      <td>1.000</td>\n",
       "      <td>0.500</td>\n",
       "      <td>0.485</td>\n",
       "      <td>0.640</td>\n",
       "      <td>0.194</td>\n",
       "      <td>16.000</td>\n",
       "      <td>111.000</td>\n",
       "      <td>137.000</td>\n",
       "    </tr>\n",
       "    <tr>\n",
       "      <th>75%</th>\n",
       "      <td>13001.500</td>\n",
       "      <td>13002.500</td>\n",
       "      <td>3.000</td>\n",
       "      <td>1.000</td>\n",
       "      <td>10.000</td>\n",
       "      <td>18.000</td>\n",
       "      <td>0.000</td>\n",
       "      <td>5.000</td>\n",
       "      <td>1.000</td>\n",
       "      <td>2.000</td>\n",
       "      <td>0.660</td>\n",
       "      <td>0.621</td>\n",
       "      <td>0.790</td>\n",
       "      <td>0.254</td>\n",
       "      <td>49.000</td>\n",
       "      <td>214.000</td>\n",
       "      <td>274.000</td>\n",
       "    </tr>\n",
       "    <tr>\n",
       "      <th>max</th>\n",
       "      <td>17378.000</td>\n",
       "      <td>17379.000</td>\n",
       "      <td>4.000</td>\n",
       "      <td>1.000</td>\n",
       "      <td>12.000</td>\n",
       "      <td>23.000</td>\n",
       "      <td>1.000</td>\n",
       "      <td>6.000</td>\n",
       "      <td>1.000</td>\n",
       "      <td>3.000</td>\n",
       "      <td>1.000</td>\n",
       "      <td>1.000</td>\n",
       "      <td>1.000</td>\n",
       "      <td>0.851</td>\n",
       "      <td>362.000</td>\n",
       "      <td>833.000</td>\n",
       "      <td>941.000</td>\n",
       "    </tr>\n",
       "  </tbody>\n",
       "</table>\n",
       "</div>"
      ],
      "text/plain": [
       "       Unnamed: 0    instant    season        yr      mnth        hr  \\\n",
       "count    5208.000   5208.000  5208.000  5208.000  5208.000  5208.000   \n",
       "mean     8692.476   8693.476     2.501     0.503     6.534    11.486   \n",
       "std      5016.759   5016.759     1.110     0.500     3.453     6.981   \n",
       "min        11.000     12.000     1.000     0.000     1.000     0.000   \n",
       "25%      4406.250   4407.250     2.000     0.000     4.000     5.000   \n",
       "50%      8711.500   8712.500     3.000     1.000     7.000    12.000   \n",
       "75%     13001.500  13002.500     3.000     1.000    10.000    18.000   \n",
       "max     17378.000  17379.000     4.000     1.000    12.000    23.000   \n",
       "\n",
       "        holiday   weekday  workingday  weathersit      temp     atemp  \\\n",
       "count  5208.000  5208.000    5208.000    5208.000  5208.000  5208.000   \n",
       "mean      0.031     3.011       0.676       1.417     0.497     0.475   \n",
       "std       0.173     2.018       0.468       0.634     0.194     0.173   \n",
       "min       0.000     0.000       0.000       1.000     0.020     0.000   \n",
       "25%       0.000     1.000       0.000       1.000     0.340     0.333   \n",
       "50%       0.000     3.000       1.000       1.000     0.500     0.485   \n",
       "75%       0.000     5.000       1.000       2.000     0.660     0.621   \n",
       "max       1.000     6.000       1.000       3.000     1.000     1.000   \n",
       "\n",
       "            hum  windspeed    casual  registered       cnt  \n",
       "count  5208.000   5208.000  5208.000    5208.000  5208.000  \n",
       "mean      0.630      0.191    35.295     150.922   186.217  \n",
       "std       0.193      0.124    48.677     150.770   180.914  \n",
       "min       0.100      0.000     0.000       0.000     1.000  \n",
       "25%       0.480      0.104     4.000      32.000    38.000  \n",
       "50%       0.640      0.194    16.000     111.000   137.000  \n",
       "75%       0.790      0.254    49.000     214.000   274.000  \n",
       "max       1.000      0.851   362.000     833.000   941.000  "
      ]
     },
     "execution_count": 14,
     "metadata": {},
     "output_type": "execute_result"
    }
   ],
   "source": [
    "dataTEST.describe()"
   ]
  },
  {
   "cell_type": "code",
   "execution_count": 15,
   "metadata": {},
   "outputs": [],
   "source": [
    "x_test = dataTEST.drop(columns=target)\n",
    "y_test = dataTEST[target]\n",
    "x_test_Norm = dataTEST_Norm.drop(columns=target)\n",
    "y_test_Norm = dataTEST_Norm[target]"
   ]
  },
  {
   "cell_type": "code",
   "execution_count": 16,
   "metadata": {},
   "outputs": [
    {
     "data": {
      "text/html": [
       "<div>\n",
       "<style scoped>\n",
       "    .dataframe tbody tr th:only-of-type {\n",
       "        vertical-align: middle;\n",
       "    }\n",
       "\n",
       "    .dataframe tbody tr th {\n",
       "        vertical-align: top;\n",
       "    }\n",
       "\n",
       "    .dataframe thead th {\n",
       "        text-align: right;\n",
       "    }\n",
       "</style>\n",
       "<table border=\"1\" class=\"dataframe\">\n",
       "  <thead>\n",
       "    <tr style=\"text-align: right;\">\n",
       "      <th></th>\n",
       "      <th>Unnamed: 0</th>\n",
       "      <th>instant</th>\n",
       "      <th>dteday</th>\n",
       "      <th>season</th>\n",
       "      <th>yr</th>\n",
       "      <th>mnth</th>\n",
       "      <th>hr</th>\n",
       "      <th>holiday</th>\n",
       "      <th>weekday</th>\n",
       "      <th>workingday</th>\n",
       "      <th>weathersit</th>\n",
       "      <th>temp</th>\n",
       "      <th>atemp</th>\n",
       "      <th>hum</th>\n",
       "      <th>windspeed</th>\n",
       "      <th>casual</th>\n",
       "      <th>registered</th>\n",
       "    </tr>\n",
       "  </thead>\n",
       "  <tbody>\n",
       "    <tr>\n",
       "      <th>0</th>\n",
       "      <td>268</td>\n",
       "      <td>269</td>\n",
       "      <td>2011-01-12</td>\n",
       "      <td>1</td>\n",
       "      <td>0</td>\n",
       "      <td>1</td>\n",
       "      <td>15</td>\n",
       "      <td>0</td>\n",
       "      <td>3</td>\n",
       "      <td>1</td>\n",
       "      <td>1</td>\n",
       "      <td>0.20</td>\n",
       "      <td>0.167</td>\n",
       "      <td>0.47</td>\n",
       "      <td>0.418</td>\n",
       "      <td>1</td>\n",
       "      <td>48</td>\n",
       "    </tr>\n",
       "    <tr>\n",
       "      <th>1</th>\n",
       "      <td>6494</td>\n",
       "      <td>6495</td>\n",
       "      <td>2011-10-03</td>\n",
       "      <td>4</td>\n",
       "      <td>0</td>\n",
       "      <td>10</td>\n",
       "      <td>4</td>\n",
       "      <td>0</td>\n",
       "      <td>1</td>\n",
       "      <td>1</td>\n",
       "      <td>1</td>\n",
       "      <td>0.34</td>\n",
       "      <td>0.348</td>\n",
       "      <td>0.87</td>\n",
       "      <td>0.104</td>\n",
       "      <td>2</td>\n",
       "      <td>6</td>\n",
       "    </tr>\n",
       "  </tbody>\n",
       "</table>\n",
       "</div>"
      ],
      "text/plain": [
       "   Unnamed: 0  instant      dteday  season  yr  mnth  hr  holiday  weekday  \\\n",
       "0         268      269  2011-01-12       1   0     1  15        0        3   \n",
       "1        6494     6495  2011-10-03       4   0    10   4        0        1   \n",
       "\n",
       "   workingday  weathersit  temp  atemp   hum  windspeed  casual  registered  \n",
       "0           1           1  0.20  0.167  0.47      0.418       1          48  \n",
       "1           1           1  0.34  0.348  0.87      0.104       2           6  "
      ]
     },
     "execution_count": 16,
     "metadata": {},
     "output_type": "execute_result"
    }
   ],
   "source": [
    "x_test[:2]"
   ]
  },
  {
   "cell_type": "code",
   "execution_count": 17,
   "metadata": {},
   "outputs": [
    {
     "data": {
      "text/html": [
       "<div>\n",
       "<style scoped>\n",
       "    .dataframe tbody tr th:only-of-type {\n",
       "        vertical-align: middle;\n",
       "    }\n",
       "\n",
       "    .dataframe tbody tr th {\n",
       "        vertical-align: top;\n",
       "    }\n",
       "\n",
       "    .dataframe thead th {\n",
       "        text-align: right;\n",
       "    }\n",
       "</style>\n",
       "<table border=\"1\" class=\"dataframe\">\n",
       "  <thead>\n",
       "    <tr style=\"text-align: right;\">\n",
       "      <th></th>\n",
       "      <th>Unnamed: 0</th>\n",
       "      <th>instant</th>\n",
       "      <th>season</th>\n",
       "      <th>yr</th>\n",
       "      <th>mnth</th>\n",
       "      <th>hr</th>\n",
       "      <th>holiday</th>\n",
       "      <th>weekday</th>\n",
       "      <th>workingday</th>\n",
       "      <th>weathersit</th>\n",
       "      <th>temp</th>\n",
       "      <th>atemp</th>\n",
       "      <th>hum</th>\n",
       "      <th>windspeed</th>\n",
       "      <th>casual</th>\n",
       "      <th>registered</th>\n",
       "      <th>dteday_v</th>\n",
       "    </tr>\n",
       "  </thead>\n",
       "  <tbody>\n",
       "    <tr>\n",
       "      <th>0</th>\n",
       "      <td>0.574</td>\n",
       "      <td>0.574</td>\n",
       "      <td>0.667</td>\n",
       "      <td>0.0</td>\n",
       "      <td>0.545</td>\n",
       "      <td>0.217</td>\n",
       "      <td>0.0</td>\n",
       "      <td>1.0</td>\n",
       "      <td>0.0</td>\n",
       "      <td>0.0</td>\n",
       "      <td>0.673</td>\n",
       "      <td>0.683</td>\n",
       "      <td>0.750</td>\n",
       "      <td>0.204</td>\n",
       "      <td>0.011</td>\n",
       "      <td>0.014</td>\n",
       "      <td>0.573</td>\n",
       "    </tr>\n",
       "    <tr>\n",
       "      <th>1</th>\n",
       "      <td>0.975</td>\n",
       "      <td>0.975</td>\n",
       "      <td>0.000</td>\n",
       "      <td>0.0</td>\n",
       "      <td>1.000</td>\n",
       "      <td>0.783</td>\n",
       "      <td>0.0</td>\n",
       "      <td>1.0</td>\n",
       "      <td>0.0</td>\n",
       "      <td>0.0</td>\n",
       "      <td>0.245</td>\n",
       "      <td>0.217</td>\n",
       "      <td>0.333</td>\n",
       "      <td>0.574</td>\n",
       "      <td>0.019</td>\n",
       "      <td>0.102</td>\n",
       "      <td>0.975</td>\n",
       "    </tr>\n",
       "  </tbody>\n",
       "</table>\n",
       "</div>"
      ],
      "text/plain": [
       "   Unnamed: 0  instant  season   yr   mnth     hr  holiday  weekday  \\\n",
       "0       0.574    0.574   0.667  0.0  0.545  0.217      0.0      1.0   \n",
       "1       0.975    0.975   0.000  0.0  1.000  0.783      0.0      1.0   \n",
       "\n",
       "   workingday  weathersit   temp  atemp    hum  windspeed  casual  registered  \\\n",
       "0         0.0         0.0  0.673  0.683  0.750      0.204   0.011       0.014   \n",
       "1         0.0         0.0  0.245  0.217  0.333      0.574   0.019       0.102   \n",
       "\n",
       "   dteday_v  \n",
       "0     0.573  \n",
       "1     0.975  "
      ]
     },
     "execution_count": 17,
     "metadata": {},
     "output_type": "execute_result"
    }
   ],
   "source": [
    "x_test_Norm[:2]"
   ]
  },
  {
   "cell_type": "markdown",
   "metadata": {},
   "source": [
    "# Загрузка моделей"
   ]
  },
  {
   "cell_type": "markdown",
   "metadata": {},
   "source": [
    "## Шкалы стандартизации. Коэфф."
   ]
  },
  {
   "cell_type": "code",
   "execution_count": 169,
   "metadata": {},
   "outputs": [
    {
     "name": "stdout",
     "output_type": "stream",
     "text": [
      "[[0.08695652]]\n",
      "[[2.]]\n"
     ]
    }
   ],
   "source": [
    "newScaler_hr = MinMaxScaler(feature_range=(0, 1))\n",
    "\n",
    "newScaler_hr.data_min_    =  [0.]\n",
    "newScaler_hr.data_max_    =  [23.]\n",
    "newScaler_hr.min_ =  [0.]\n",
    "newScaler_hr.scale_ =  [0.04347826]\n",
    "newScaler_hr.data_range_  =  [23.]\n",
    "\n",
    "# .transform( [[2]] ) - привести значение 2 к заданному диапазону\n",
    "print newScaler_hr.transform( [[2]] )\n",
    "\n",
    "# .inverse_transform( [[0.1428571]] ) - привести значение 0.1428571 к исходному диапазону\n",
    "print newScaler_hr.inverse_transform( [[0.08695652]])"
   ]
  },
  {
   "cell_type": "code",
   "execution_count": 170,
   "metadata": {},
   "outputs": [
    {
     "name": "stdout",
     "output_type": "stream",
     "text": [
      "[[0.63265306]]\n",
      "[[0.64]]\n"
     ]
    }
   ],
   "source": [
    "newScaler_temp = MinMaxScaler(feature_range=(0, 1))\n",
    "\n",
    "newScaler_temp.data_min_    =  [0.02]\n",
    "newScaler_temp.data_max_    =  [1.]\n",
    "newScaler_temp.min_ =   [-0.02040816]\n",
    "newScaler_temp.scale_ =  [1.02040816]\n",
    "newScaler_temp.data_range_  =  [0.98]\n",
    "\n",
    "\n",
    "# .transform( [[2]] ) - привести значение 2 к заданному диапазону\n",
    "print newScaler_temp.transform( [[0.64]] )\n",
    "\n",
    "# .inverse_transform( [[0.1428571]] ) - привести значение 0.1428571 к исходному диапазону\n",
    "print newScaler_temp.inverse_transform( [[0.63265306]])"
   ]
  },
  {
   "cell_type": "code",
   "execution_count": 171,
   "metadata": {},
   "outputs": [
    {
     "name": "stdout",
     "output_type": "stream",
     "text": [
      "[[0.22031642]]\n",
      "[[168.]]\n"
     ]
    }
   ],
   "source": [
    "\n",
    "newScaler_cnt = MinMaxScaler(feature_range=(0, 1))\n",
    "\n",
    "newScaler_cnt.data_min_    =   [1.]\n",
    "newScaler_cnt.data_max_    =  [759.]\n",
    "newScaler_cnt.min_ =  [-0.00131926]\n",
    "newScaler_cnt.scale_ =  [0.00131926]\n",
    "newScaler_cnt.data_range_  =  [758.]\n",
    "\n",
    "\n",
    "# .transform( [[2]] ) - привести значение 2000000 к заданному диапазону\n",
    "print newScaler_cnt.transform( [[168]] )\n",
    "\n",
    "# .inverse_transform( [[0.1428571]] ) - привести значение 1.0 к исходному диапазону\n",
    "print newScaler_cnt.inverse_transform( [[0.22031642]])"
   ]
  },
  {
   "cell_type": "markdown",
   "metadata": {},
   "source": [
    "### Входные параметры"
   ]
  },
  {
   "cell_type": "code",
   "execution_count": 147,
   "metadata": {},
   "outputs": [
    {
     "name": "stdout",
     "output_type": "stream",
     "text": [
      "    temp  hr   hum\n",
      "40  0.52  20  0.77\n"
     ]
    }
   ],
   "source": [
    "x_input_test = x_test[features][40:41]\n",
    "print x_input_test "
   ]
  },
  {
   "cell_type": "code",
   "execution_count": 148,
   "metadata": {},
   "outputs": [
    {
     "name": "stdout",
     "output_type": "stream",
     "text": [
      "0.52\n",
      "20.0\n",
      "[[0.0226087]]\n",
      "[[0.52]]\n",
      "[[20.38775504]]\n",
      "[[20.]]\n"
     ]
    }
   ],
   "source": [
    "print x_input_test.values[0][0]\n",
    "print x_input_test.values[0][1]\n",
    "\n",
    "print newScaler_hr.transform( [[x_input_test.values[0][0]]] )\n",
    "print newScaler_hr.inverse_transform(newScaler_hr.transform( [[x_input_test.values[0][0]]] ))\n",
    "\n",
    "print newScaler_temp.transform( [[x_input_test.values[0][1]]] )\n",
    "print newScaler_temp.inverse_transform(  newScaler_temp.transform( [[x_input_test.values[0][1]]] ))"
   ]
  },
  {
   "cell_type": "code",
   "execution_count": 149,
   "metadata": {},
   "outputs": [
    {
     "name": "stdout",
     "output_type": "stream",
     "text": [
      "     temp  hr   hum\n",
      "555  0.62   4  0.83\n"
     ]
    }
   ],
   "source": [
    "x_input_test2 = x_test[features][555:556]\n",
    "print x_input_test2 "
   ]
  },
  {
   "cell_type": "markdown",
   "metadata": {},
   "source": [
    "### Проверочный выходной параметр"
   ]
  },
  {
   "cell_type": "code",
   "execution_count": 150,
   "metadata": {},
   "outputs": [
    {
     "data": {
      "text/plain": [
       "198"
      ]
     },
     "execution_count": 150,
     "metadata": {},
     "output_type": "execute_result"
    }
   ],
   "source": [
    "y_test[target][40:41].values[0][0]"
   ]
  },
  {
   "cell_type": "code",
   "execution_count": 151,
   "metadata": {},
   "outputs": [
    {
     "name": "stdout",
     "output_type": "stream",
     "text": [
      "[[0.25989422]]\n"
     ]
    }
   ],
   "source": [
    "print newScaler_cnt.transform( [[y_test[target][40:41].values[0][0]]] )"
   ]
  },
  {
   "cell_type": "code",
   "execution_count": 152,
   "metadata": {},
   "outputs": [
    {
     "name": "stdout",
     "output_type": "stream",
     "text": [
      "[[198.]]\n"
     ]
    }
   ],
   "source": [
    "print newScaler_cnt.inverse_transform(newScaler_cnt.transform( [[y_test[target][40:41].values[0][0]]] ))"
   ]
  },
  {
   "cell_type": "code",
   "execution_count": 153,
   "metadata": {},
   "outputs": [
    {
     "data": {
      "text/plain": [
       "6"
      ]
     },
     "execution_count": 153,
     "metadata": {},
     "output_type": "execute_result"
    }
   ],
   "source": [
    "y_test[target][555:556].values[0][0]"
   ]
  },
  {
   "cell_type": "markdown",
   "metadata": {},
   "source": [
    "### Нормализованные входные параметры"
   ]
  },
  {
   "cell_type": "code",
   "execution_count": 154,
   "metadata": {},
   "outputs": [],
   "source": [
    "x1_input = newScaler_hr.transform( [[x_input_test.values[0][0]]] )\n",
    "x2_input = newScaler_temp.transform( [[x_input_test.values[0][1]]] )"
   ]
  },
  {
   "cell_type": "code",
   "execution_count": 155,
   "metadata": {},
   "outputs": [
    {
     "name": "stdout",
     "output_type": "stream",
     "text": [
      "[0.0226086952, 20.38775504]\n"
     ]
    }
   ],
   "source": [
    "arr_input = [x1_input[0][0], x2_input[0][0]]\n",
    "print arr_input"
   ]
  },
  {
   "cell_type": "code",
   "execution_count": 156,
   "metadata": {},
   "outputs": [],
   "source": [
    "x1_input2 = newScaler_hr.transform( [[x_input_test2.values[0][0]]] )\n",
    "x2_input2 = newScaler_temp.transform( [[x_input_test2.values[0][1]]] )"
   ]
  },
  {
   "cell_type": "code",
   "execution_count": 157,
   "metadata": {},
   "outputs": [
    {
     "name": "stdout",
     "output_type": "stream",
     "text": [
      "[0.0269565212, 4.06122448]\n"
     ]
    }
   ],
   "source": [
    "arr_input2 = [x1_input2[0][0], x2_input2[0][0]]\n",
    "print arr_input2"
   ]
  },
  {
   "cell_type": "markdown",
   "metadata": {},
   "source": [
    "## Нейронная сеть. Файл pickle."
   ]
  },
  {
   "cell_type": "markdown",
   "metadata": {},
   "source": [
    "### Модель 3 вх., 1 вых."
   ]
  },
  {
   "cell_type": "code",
   "execution_count": 267,
   "metadata": {},
   "outputs": [
    {
     "data": {
      "text/plain": [
       "array([0.18367347, 0.30434783, 0.63095238])"
      ]
     },
     "execution_count": 267,
     "metadata": {},
     "output_type": "execute_result"
    }
   ],
   "source": [
    "x_sample_3 = x_test_Norm[features][40:41]\n",
    "x_sample_3.values[0]"
   ]
  },
  {
   "cell_type": "code",
   "execution_count": 263,
   "metadata": {},
   "outputs": [
    {
     "data": {
      "text/plain": [
       "array([0.51020408, 0.73913043, 0.51190476])"
      ]
     },
     "execution_count": 263,
     "metadata": {},
     "output_type": "execute_result"
    }
   ],
   "source": [
    "x_sample_3_1 = x_test_Norm[features][555:556]\n",
    "x_sample_3_1.values[0]"
   ]
  },
  {
   "cell_type": "code",
   "execution_count": 268,
   "metadata": {},
   "outputs": [
    {
     "name": "stdout",
     "output_type": "stream",
     "text": [
      "Результат проверки. Нейронная сеть 3 вх., 1 вых. Файл pickle.\n",
      "[0.13538304]\n"
     ]
    }
   ],
   "source": [
    "import pickle\n",
    "fileName_net3 = \"model_Net_3to1_BikeCnt.data_pickle\"\n",
    "\n",
    "with open(fileName_net3, 'rb') as f:\n",
    "    net3 = pickle.load(f)\n",
    "print \"Результат проверки. Нейронная сеть 3 вх., 1 вых. Файл pickle.\"\n",
    "print net3.activate( x_sample_3.values[0] )"
   ]
  },
  {
   "cell_type": "code",
   "execution_count": 317,
   "metadata": {},
   "outputs": [],
   "source": [
    "r2_net3 = 0.33"
   ]
  },
  {
   "cell_type": "code",
   "execution_count": 269,
   "metadata": {},
   "outputs": [
    {
     "data": {
      "text/plain": [
       "array([0.18367347, 0.30434783, 0.63095238])"
      ]
     },
     "execution_count": 269,
     "metadata": {},
     "output_type": "execute_result"
    }
   ],
   "source": [
    "x_sample_3.values[0]"
   ]
  },
  {
   "cell_type": "code",
   "execution_count": 305,
   "metadata": {},
   "outputs": [
    {
     "data": {
      "text/plain": [
       "array([0.57380053, 0.57380053, 0.66666667, 0.        , 0.54545455,\n",
       "       0.2173913 , 0.        , 1.        , 0.        , 0.        ,\n",
       "       0.67346939, 0.68338834, 0.75      , 0.20372208, 0.01089918,\n",
       "       0.01356852, 0.57260274])"
      ]
     },
     "execution_count": 305,
     "metadata": {},
     "output_type": "execute_result"
    }
   ],
   "source": [
    "x_sample_17 = x_test_Norm[0:1]\n",
    "x_sample_17.values[0]"
   ]
  },
  {
   "cell_type": "markdown",
   "metadata": {},
   "source": [
    "### Результат работы модели на проверочных параметрах"
   ]
  },
  {
   "cell_type": "code",
   "execution_count": 306,
   "metadata": {},
   "outputs": [
    {
     "name": "stdout",
     "output_type": "stream",
     "text": [
      "[0.13538304]\n"
     ]
    }
   ],
   "source": [
    "print net3.activate( x_sample_3.values[0] )"
   ]
  },
  {
   "cell_type": "code",
   "execution_count": 307,
   "metadata": {},
   "outputs": [
    {
     "name": "stdout",
     "output_type": "stream",
     "text": [
      "[[103.62044039]]\n"
     ]
    }
   ],
   "source": [
    "print newScaler_cnt.inverse_transform([net3.activate( x_sample_3.values[0] )])"
   ]
  },
  {
   "cell_type": "code",
   "execution_count": 308,
   "metadata": {},
   "outputs": [],
   "source": [
    "y_check_net3 = newScaler_cnt.inverse_transform([net3.activate( x_sample_3.values[0] )])"
   ]
  },
  {
   "cell_type": "code",
   "execution_count": 274,
   "metadata": {},
   "outputs": [
    {
     "name": "stdout",
     "output_type": "stream",
     "text": [
      "[[319.09215061]]\n"
     ]
    }
   ],
   "source": [
    "print newScaler_cnt.inverse_transform([net3.activate( x_sample_3_1.values[0]  )])"
   ]
  },
  {
   "cell_type": "code",
   "execution_count": 275,
   "metadata": {},
   "outputs": [],
   "source": [
    "y_check2_net3 = newScaler_cnt.inverse_transform([net3.activate( x_sample_3_1.values[0]  )])"
   ]
  },
  {
   "cell_type": "markdown",
   "metadata": {},
   "source": [
    "### Модель 17 вх., 1 вых."
   ]
  },
  {
   "cell_type": "code",
   "execution_count": 313,
   "metadata": {},
   "outputs": [
    {
     "name": "stdout",
     "output_type": "stream",
     "text": [
      "Результат проверки. Нейронная сеть 3 вх., 1 вых. Файл pickle.\n",
      "[0.09811498]\n"
     ]
    }
   ],
   "source": [
    "# сохраним модель нейнронной сети\n",
    "import pickle\n",
    "# имя файла\n",
    "fileName_net17 = \"model_Net_17to1.data_pickle\"\n",
    "\n",
    "with open(fileName_net17, 'rb') as f:\n",
    "    net17 = pickle.load(f)\n",
    "print \"Результат проверки. Нейронная сеть 3 вх., 1 вых. Файл pickle.\"\n",
    "print net17.activate( x_sample_17.values[0] )"
   ]
  },
  {
   "cell_type": "markdown",
   "metadata": {},
   "source": [
    "### Результат работы модели на проверочных параметрах"
   ]
  },
  {
   "cell_type": "code",
   "execution_count": 277,
   "metadata": {},
   "outputs": [
    {
     "name": "stdout",
     "output_type": "stream",
     "text": [
      "[0.84747509 0.84747509 1.         0.         0.90909091 0.30434783\n",
      " 0.         0.33333333 1.         0.         0.18367347 0.21661166\n",
      " 0.63095238 0.20372208 0.02452316 0.51289009 0.84931507]\n"
     ]
    }
   ],
   "source": [
    "x_input_testAll = x_test_Norm[40:41]\n",
    "print x_input_testAll.values [0]"
   ]
  },
  {
   "cell_type": "code",
   "execution_count": 278,
   "metadata": {},
   "outputs": [
    {
     "name": "stdout",
     "output_type": "stream",
     "text": [
      "[0.92534066 0.92534066 1.         0.         1.         0.73913043\n",
      " 0.         0.33333333 1.         0.         0.51020408 0.53333333\n",
      " 0.51190476 0.27779156 0.11716621 0.94979647 0.9260274 ]\n"
     ]
    }
   ],
   "source": [
    "x_input_testAll2 = x_test_Norm[555:556]\n",
    "print x_input_testAll2.values [0]"
   ]
  },
  {
   "cell_type": "code",
   "execution_count": 279,
   "metadata": {},
   "outputs": [
    {
     "data": {
      "text/html": [
       "<div>\n",
       "<style scoped>\n",
       "    .dataframe tbody tr th:only-of-type {\n",
       "        vertical-align: middle;\n",
       "    }\n",
       "\n",
       "    .dataframe tbody tr th {\n",
       "        vertical-align: top;\n",
       "    }\n",
       "\n",
       "    .dataframe thead th {\n",
       "        text-align: right;\n",
       "    }\n",
       "</style>\n",
       "<table border=\"1\" class=\"dataframe\">\n",
       "  <thead>\n",
       "    <tr style=\"text-align: right;\">\n",
       "      <th></th>\n",
       "      <th>cnt</th>\n",
       "    </tr>\n",
       "  </thead>\n",
       "  <tbody>\n",
       "    <tr>\n",
       "      <th>40</th>\n",
       "      <td>0.509</td>\n",
       "    </tr>\n",
       "  </tbody>\n",
       "</table>\n",
       "</div>"
      ],
      "text/plain": [
       "      cnt\n",
       "40  0.509"
      ]
     },
     "execution_count": 279,
     "metadata": {},
     "output_type": "execute_result"
    }
   ],
   "source": [
    "y_test_Norm[40:41]"
   ]
  },
  {
   "cell_type": "code",
   "execution_count": 280,
   "metadata": {},
   "outputs": [
    {
     "name": "stdout",
     "output_type": "stream",
     "text": [
      "[0.42684479]\n"
     ]
    }
   ],
   "source": [
    "print net17.activate( x_input_testAll.values[0] )"
   ]
  },
  {
   "cell_type": "code",
   "execution_count": 316,
   "metadata": {},
   "outputs": [],
   "source": [
    "r2_net17 = 0.91"
   ]
  },
  {
   "cell_type": "code",
   "execution_count": 281,
   "metadata": {},
   "outputs": [
    {
     "name": "stdout",
     "output_type": "stream",
     "text": [
      "[0.94372073]\n"
     ]
    }
   ],
   "source": [
    "print net17.activate( x_input_testAll2.values[0] )"
   ]
  },
  {
   "cell_type": "code",
   "execution_count": 282,
   "metadata": {},
   "outputs": [
    {
     "name": "stdout",
     "output_type": "stream",
     "text": [
      "[[324.54864752]]\n"
     ]
    }
   ],
   "source": [
    "print newScaler_cnt.inverse_transform([net17.activate( x_input_testAll.values[0] )])"
   ]
  },
  {
   "cell_type": "code",
   "execution_count": 283,
   "metadata": {},
   "outputs": [],
   "source": [
    "y_check_net17 = newScaler_cnt.inverse_transform([net17.activate( x_input_testAll.values[0] )])"
   ]
  },
  {
   "cell_type": "code",
   "execution_count": 284,
   "metadata": {},
   "outputs": [
    {
     "name": "stdout",
     "output_type": "stream",
     "text": [
      "[[716.34097138]]\n"
     ]
    }
   ],
   "source": [
    "print newScaler_cnt.inverse_transform([net17.activate( x_input_testAll2.values[0] )])"
   ]
  },
  {
   "cell_type": "code",
   "execution_count": 285,
   "metadata": {},
   "outputs": [],
   "source": [
    "y_check2_net17 = newScaler_cnt.inverse_transform([net17.activate( x_input_testAll2.values[0] )])"
   ]
  },
  {
   "cell_type": "markdown",
   "metadata": {},
   "source": [
    "## Линейная регрессия. Коэфф."
   ]
  },
  {
   "cell_type": "code",
   "execution_count": 172,
   "metadata": {},
   "outputs": [
    {
     "name": "stdout",
     "output_type": "stream",
     "text": [
      "R2   =  -0.17196600056242506\n",
      "MAE  =  0.07098996513011369 [[-129.35034835]]\n",
      "RMSE  = 0.0709899651301 -129.350 \n"
     ]
    }
   ],
   "source": [
    "model_LinRegrMult           = linear_model.LinearRegression()\n",
    "model_LinRegrMult.coef_      = np.array([ 0.250885, -0.09054081, 0.04830667])\n",
    "model_LinRegrMult.intercept_ = np.array([0.08743233])\n",
    "y_pred_LinRegrMult_CLEAR           = model_LinRegrMult.predict(  x_test_Norm[features]  )\n",
    "\n",
    "\n",
    "r2_Lin = metrics.r2_score(y_test_Norm, y_pred_LinRegrMult_CLEAR)\n",
    "mse_Lin = metrics.mean_squared_error(y_test_Norm, y_pred_LinRegrMult_CLEAR)\n",
    "\n",
    "print \"R2   = \",r2_Lin\n",
    "print \"MAE  = \",mse_Lin, newScaler_cnt.inverse_transform( [[ r2_Lin ]])\n",
    "print \"RMSE  = {} {:,.3f} \".format( mse_Lin,newScaler_cnt.inverse_transform( [[ r2_Lin ]])[0][0])"
   ]
  },
  {
   "cell_type": "code",
   "execution_count": 173,
   "metadata": {},
   "outputs": [
    {
     "name": "stdout",
     "output_type": "stream",
     "text": [
      "Результат проверки. Линейная регрессия. Коэфф.\n",
      "Проверочное  [[0.0171504]]\n",
      "Вычисленное  0.09411775260573797\n",
      "Проверочное  [[87.4120795]]\n",
      "Вычисленное  [[72.09299911]]\n"
     ]
    }
   ],
   "source": [
    "print \"Результат проверки. Линейная регрессия. Коэфф.\"\n",
    "print \"Проверочное \", y_test_Norm.iloc[0:1].values\n",
    "print \"Вычисленное \", y_pred_LinRegrMult_CLEAR[1] \n",
    "\n",
    "print \"Проверочное \", newScaler_cnt.inverse_transform( [[ 0.114 ]])\n",
    "print \"Вычисленное \", newScaler_cnt.inverse_transform( [[ 0.09379015 ]])\n",
    "\n"
   ]
  },
  {
   "cell_type": "markdown",
   "metadata": {},
   "source": [
    "## Линейная регрессия. Файл pickle."
   ]
  },
  {
   "cell_type": "code",
   "execution_count": 174,
   "metadata": {},
   "outputs": [
    {
     "name": "stdout",
     "output_type": "stream",
     "text": [
      "Результат проверки. Линейная регрессия. Файл pickle.\n",
      "y_pred Исходной,  y_pred Загруженной,  delta,  delta < 0.000001\n",
      "[[0.0171504]] [0.2402063] [[-0.2230559]] [[ True]]\n",
      "[[0.10686016]] [0.31622845] [[-0.20936829]] [[ True]]\n",
      "[[0.01978892]] [0.04213348] [[-0.02234456]] [[ True]]\n",
      "[[0.2585752]] [0.30922432] [[-0.05064912]] [[ True]]\n",
      "[[0.82453826]] [0.46972174] [[0.35481652]] [[False]]\n",
      "[[0.69261214]] [0.15867231] [[0.53393982]] [[False]]\n",
      "[[0.21635884]] [0.45247233] [[-0.23611349]] [[ True]]\n",
      "[[0.0171504]] [0.27687071] [[-0.25972031]] [[ True]]\n",
      "[[0.33773087]] [0.44682706] [[-0.10909619]] [[ True]]\n",
      "[[0.39841689]] [0.25852098] [[0.13989591]] [[False]]\n"
     ]
    }
   ],
   "source": [
    "import pickle\n",
    "fileName_LinRegrMult = \"model_LinRegrMult.data_pickle\"\n",
    "\n",
    "with open(fileName_LinRegrMult, 'rb') as f:\n",
    "    model_LinRegrMult = pickle.load(f)\n",
    "\n",
    "y_pred_LinRegrMult_CLEAR = model_LinRegrMult.predict(  x_test_Norm[features]  )\n",
    "print \"Результат проверки. Линейная регрессия. Файл pickle.\"\n",
    "\n",
    "print \"y_pred Исходной, \", \"y_pred Загруженной, \", \"delta, \", \"delta < 0.000001\"\n",
    "\n",
    "for i in range (0, 10):\n",
    "    delta = (y_test_Norm.iloc[i:i+1].values  - y_pred_LinRegrMult_CLEAR[i] ) \n",
    "    print y_test_Norm.iloc[i:i+1].values , y_pred_LinRegrMult_CLEAR[i], delta, delta < 0.000001"
   ]
  },
  {
   "cell_type": "code",
   "execution_count": 175,
   "metadata": {},
   "outputs": [
    {
     "name": "stdout",
     "output_type": "stream",
     "text": [
      "[[0.23336]]\n"
     ]
    }
   ],
   "source": [
    "print model_LinRegrMult.predict( [ x_sample_3.values[0]])"
   ]
  },
  {
   "cell_type": "code",
   "execution_count": 176,
   "metadata": {},
   "outputs": [
    {
     "name": "stdout",
     "output_type": "stream",
     "text": [
      "[[0.16299687]]\n"
     ]
    }
   ],
   "source": [
    "print model_LinRegrMult.predict( [ x_sample_3_1.values[0]] )"
   ]
  },
  {
   "cell_type": "code",
   "execution_count": 190,
   "metadata": {},
   "outputs": [
    {
     "name": "stdout",
     "output_type": "stream",
     "text": [
      "[[124.55173843]]\n"
     ]
    }
   ],
   "source": [
    "print newScaler_cnt.inverse_transform(model_LinRegrMult.predict( [x_sample_3_1.values[0]] ))"
   ]
  },
  {
   "cell_type": "code",
   "execution_count": 207,
   "metadata": {},
   "outputs": [
    {
     "name": "stdout",
     "output_type": "stream",
     "text": [
      "\n"
     ]
    }
   ],
   "source": [
    "y_check_linRegr = newScaler_cnt.inverse_transform(model_LinRegrMult.predict( [x_sample_3.values[0]] ))"
   ]
  },
  {
   "cell_type": "code",
   "execution_count": 192,
   "metadata": {},
   "outputs": [
    {
     "name": "stdout",
     "output_type": "stream",
     "text": [
      "[[177.88704228]]\n"
     ]
    }
   ],
   "source": [
    "print newScaler_cnt.inverse_transform(model_LinRegrMult.predict( [ x_sample_3.values[0]]))"
   ]
  },
  {
   "cell_type": "code",
   "execution_count": 239,
   "metadata": {},
   "outputs": [
    {
     "name": "stdout",
     "output_type": "stream",
     "text": [
      "\n"
     ]
    }
   ],
   "source": [
    "y_check2_linRegr = newScaler_cnt.inverse_transform(model_LinRegrMult.predict( [ x_sample_3_1.values[0]]))"
   ]
  },
  {
   "cell_type": "markdown",
   "metadata": {},
   "source": [
    "## Дерево регрессии. Файл pickle."
   ]
  },
  {
   "cell_type": "code",
   "execution_count": 225,
   "metadata": {},
   "outputs": [
    {
     "name": "stdout",
     "output_type": "stream",
     "text": [
      "Результат проверки. Дерево регрессии\n",
      "y_pred Исходной,  y_pred Загруженной,  delta,  delta < 0.000001\n",
      "[[0.0171504]] [0.2402063] [[-0.2230559]] [[ True]]\n",
      "[[0.10686016]] [0.31622845] [[-0.20936829]] [[ True]]\n",
      "[[0.01978892]] [0.04213348] [[-0.02234456]] [[ True]]\n",
      "[[0.2585752]] [0.30922432] [[-0.05064912]] [[ True]]\n",
      "[[0.82453826]] [0.46972174] [[0.35481652]] [[False]]\n",
      "[[0.69261214]] [0.15867231] [[0.53393982]] [[False]]\n",
      "[[0.21635884]] [0.45247233] [[-0.23611349]] [[ True]]\n",
      "[[0.0171504]] [0.27687071] [[-0.25972031]] [[ True]]\n",
      "[[0.33773087]] [0.44682706] [[-0.10909619]] [[ True]]\n",
      "[[0.39841689]] [0.25852098] [[0.13989591]] [[False]]\n"
     ]
    }
   ],
   "source": [
    "import pickle\n",
    "fileName_treeRegr_d7 = \"model_treeRegr_d7.data_pickle\"\n",
    "\n",
    "with open(fileName_LinRegrMult, 'rb') as f:\n",
    "    treeRegr_d7 = pickle.load(f)\n",
    "\n",
    "y_pred_treeRegr_d7 = treeRegr_d7.predict(  x_test_Norm[features]  )\n",
    "print \"Результат проверки. Дерево регрессии\"\n",
    "\n",
    "print \"y_pred Исходной, \", \"y_pred Загруженной, \", \"delta, \", \"delta < 0.000001\"\n",
    "\n",
    "for i in range (0, 10):\n",
    "    delta = (y_test_Norm.iloc[i:i+1].values  - y_pred_treeRegr_d7[i] ) \n",
    "    print y_test_Norm.iloc[i:i+1].values , y_pred_treeRegr_d7[i], delta, delta < 0.000001"
   ]
  },
  {
   "cell_type": "code",
   "execution_count": 296,
   "metadata": {},
   "outputs": [
    {
     "name": "stdout",
     "output_type": "stream",
     "text": [
      "Дерево решений. Регрессия. Усеченный диапазон.\n",
      "MAE - средняя абсолютная ошибка:       0 дерево регр. \n",
      "R2  - коэфф. детерминации:         0.335 дерево регр. \n"
     ]
    }
   ],
   "source": [
    "print \"Дерево решений. Регрессия. Усеченный диапазон.\"\n",
    "mae_tree = metrics.mean_absolute_error(y_test_Norm, y_pred_treeRegr_d7)\n",
    "r2_tree  = metrics.r2_score           (y_test_Norm, y_pred_treeRegr_d7)\n",
    "\n",
    "print \"MAE - средняя абсолютная ошибка: {:>7,.0f} дерево регр. \".format( mae_tree)\n",
    "print \"R2  - коэфф. детерминации:       {:>7,.3f} дерево регр. \".format( r2_tree )"
   ]
  },
  {
   "cell_type": "code",
   "execution_count": 226,
   "metadata": {},
   "outputs": [
    {
     "data": {
      "text/plain": [
       "array([[0.16299687]])"
      ]
     },
     "execution_count": 226,
     "metadata": {},
     "output_type": "execute_result"
    }
   ],
   "source": [
    "treeRegr_d7.predict([x_sample_3_1.values[0]])"
   ]
  },
  {
   "cell_type": "code",
   "execution_count": 227,
   "metadata": {},
   "outputs": [
    {
     "data": {
      "text/plain": [
       "array([[0.23336]])"
      ]
     },
     "execution_count": 227,
     "metadata": {},
     "output_type": "execute_result"
    }
   ],
   "source": [
    "treeRegr_d7.predict([x_sample_3.values[0]])"
   ]
  },
  {
   "cell_type": "code",
   "execution_count": 235,
   "metadata": {},
   "outputs": [
    {
     "data": {
      "text/plain": [
       "array([[177.88704228]])"
      ]
     },
     "execution_count": 235,
     "metadata": {},
     "output_type": "execute_result"
    }
   ],
   "source": [
    "newScaler_cnt.inverse_transform(treeRegr_d7.predict([x_sample_3.values[0]]))"
   ]
  },
  {
   "cell_type": "code",
   "execution_count": 234,
   "metadata": {},
   "outputs": [],
   "source": [
    "y_check_tree = newScaler_cnt.inverse_transform(treeRegr_d7.predict([x_sample_3.values[0]]))"
   ]
  },
  {
   "cell_type": "code",
   "execution_count": 236,
   "metadata": {},
   "outputs": [
    {
     "data": {
      "text/plain": [
       "array([[124.55173843]])"
      ]
     },
     "execution_count": 236,
     "metadata": {},
     "output_type": "execute_result"
    }
   ],
   "source": [
    "newScaler_cnt.inverse_transform(treeRegr_d7.predict([x_sample_3_1.values[0]]))"
   ]
  },
  {
   "cell_type": "code",
   "execution_count": 237,
   "metadata": {},
   "outputs": [],
   "source": [
    "y_check2_tree = newScaler_cnt.inverse_transform(treeRegr_d7.predict([x_sample_3_1.values[0]]))"
   ]
  },
  {
   "cell_type": "markdown",
   "metadata": {},
   "source": [
    "# Сравнение результатов"
   ]
  },
  {
   "cell_type": "code",
   "execution_count": 318,
   "metadata": {},
   "outputs": [
    {
     "name": "stdout",
     "output_type": "stream",
     "text": [
      "y Исходное                                   198 \n",
      "\n",
      "Сеть 3вх. 1 вых.:       y_pred Загруженной   103.62044038738487    Разница  94.37955961261513  Предполагаемая ошибка      24.12 R2   =   0.330  \n",
      "\n",
      "Сеть 17вх. 1 вых.:      y_pred Загруженной   324.5486475157762   Разница  126.54864751577622  Предполагаемая ошибка      21.09 R2   =   0.910  \n",
      "\n",
      "Дерево регрессии:       y_pred Загруженной   177.88704228005577   Разница  20.112957719944234  Предполагаемая ошибка      24.04 R2   =   0.335  \n",
      "\n",
      "Множ.лин.регрессия:     y_pred Загруженной   177.88704228005577   Разница  20.112957719944234  Предполагаемая ошибка      24.08  R2   =  -0.172 \n",
      "\n",
      "\n",
      "\n",
      "y Исходное              6 \n",
      "\n",
      "Сеть 3вх. 1 вых.:       y_pred Загруженной   319.09215061014913   Разница  313.09215061014913   Предполагаемая ошибка       0.73 \n",
      "\n",
      "Сеть 17вх. 1 вых.:      y_pred Загруженной   716.3409713770011    Разница  710.3409713770011    Предполагаемая ошибка       0.64 \n",
      "\n",
      "Дерево регрессии:       y_pred Загруженной   124.55173842957551   Разница  118.55173842957551   Предполагаемая ошибка      24.04 \n",
      "\n",
      "Множ.лин.регрессия:     y_pred Загруженной   124.55173842957551   Разница  118.55173842957551    Предполагаемая ошибка      24.08 \n",
      "\n"
     ]
    }
   ],
   "source": [
    "y1 = y_test[target][40:41].values[0][0]\n",
    "y2 = y_test[target][555:556].values[0][0]\n",
    "print\"y Исходное                                  \", y1, '\\n' \n",
    "print \"Сеть 3вх. 1 вых.:      \", \"y_pred Загруженной  \", y_check_net3[0][0],  \"   Разница \", abs(y_check_net3[0][0]-y1), \" Предполагаемая ошибка {:>10,.2f}\".format(y1*0.1218),\"R2   = {:>7,.3f} \".format(r2_net3),'\\n'\n",
    "print \"Сеть 17вх. 1 вых.:     \", \"y_pred Загруженной  \", y_check_net17[0][0],  \"  Разница \", abs(y_check_net17[0][0]-y1), \" Предполагаемая ошибка {:>10,.2f}\".format(y1*0.1065),\"R2   = {:>7,.3f} \".format(r2_net17),'\\n'\n",
    "print \"Дерево регрессии:      \", \"y_pred Загруженной  \", y_check_tree[0][0],  \"  Разница \", abs(y_check_tree[0][0]-y1), \" Предполагаемая ошибка {:>10,.2f}\".format(y1*0.1214),\"R2   = {:>7,.3f} \".format(r2_tree),'\\n'\n",
    "print \"Множ.лин.регрессия:    \", \"y_pred Загруженной  \", y_check_linRegr[0][0],  \"  Разница \", abs(y_check_linRegr[0][0]-y1), \" Предполагаемая ошибка {:>10,.2f}\".format(y1*0.1216), \" R2   = {:>7,.3f}\".format(r2_Lin), '\\n'\n",
    "print  '\\n' \n",
    "print\"y Исходное             \", y_test[target][555:556].values[0][0], '\\n' \n",
    "print \"Сеть 3вх. 1 вых.:      \", \"y_pred Загруженной  \", y_check2_net3[0][0],  \"  Разница \", abs(y_check2_net3[0][0]-y2), \"  Предполагаемая ошибка {:>10,.2f}\".format(y2*0.1218),'\\n'\n",
    "print \"Сеть 17вх. 1 вых.:     \", \"y_pred Загруженной  \", y_check2_net17[0][0],  \"   Разница \", abs(y_check2_net17[0][0]-y2),\"   Предполагаемая ошибка {:>10,.2f}\".format(y2*0.1065), '\\n'\n",
    "print \"Дерево регрессии:      \", \"y_pred Загруженной  \", y_check2_tree[0][0],  \"  Разница \", abs(y_check2_tree[0][0]-y2),\"  Предполагаемая ошибка {:>10,.2f}\".format(y1*0.1214), '\\n'\n",
    "print \"Множ.лин.регрессия:    \", \"y_pred Загруженной  \", y_check2_linRegr[0][0],  \"  Разница \", abs(y_check2_linRegr[0][0]-y2), \"   Предполагаемая ошибка {:>10,.2f}\".format(y1*0.1216),'\\n'"
   ]
  },
  {
   "cell_type": "markdown",
   "metadata": {},
   "source": [
    "# Сопровождающая информация по моделям"
   ]
  },
  {
   "cell_type": "code",
   "execution_count": 35,
   "metadata": {},
   "outputs": [],
   "source": [
    "dictModel_linear   = dict()\n",
    "dictModel_tree     = dict()\n",
    "dictModel_neuroNet = dict()"
   ]
  },
  {
   "cell_type": "code",
   "execution_count": 292,
   "metadata": {},
   "outputs": [],
   "source": [
    "dictModel_linear[\"name\"]      = u\"Множественная. v2\"\n",
    "dictModel_linear[\"typeML\"]      = u\"Линейная регрессия\"\n",
    "dictModel_linear[\"r2\"]        = 0.33\n",
    "dictModel_linear[\"mae\"]       = 0.15\n",
    "dictModel_linear[\"mse\"]       = 0.017\n",
    "dictModel_linear[\"features\"]  = [\"hr\",\"hum\",\"temp\"]\n",
    "dictModel_linear[\"target\"]    = [\"cnt\"]\n",
    "dictModel_linear[\"dataNormalised\"]    = True\n",
    "\n",
    "\n",
    "dictModel_tree[\"name\"]      = u\"Дерево регрессии\"\n",
    "dictModel_tree[\"typeML\"]      = u\"Дерево регрессии\"\n",
    "dictModel_tree[\"r2\"]        = 0.61\n",
    "dictModel_tree[\"mae\"]       = 0\n",
    "dictModel_tree[\"mse\"]       = 0\n",
    "dictModel_tree[\"features\"]  = [\"hr\",\"hum\",\"temp\"]\n",
    "dictModel_tree[\"target\"]    = [\"cnt\"]\n",
    "dictModel_tree[\"dataNormalised\"]    = True\n",
    "\n",
    "\n",
    "dictModel_neuroNet[\"name\"]      = u\"Нейросеть 3вх, 1 вых. 26 итераций\"\n",
    "dictModel_neuroNet[\"typeML\"]      = u\"Нейронная сеть\"\n",
    "dictModel_neuroNet[\"r2\"]        = 0.45\n",
    "dictModel_neuroNet[\"mae\"]       = 0.05\n",
    "dictModel_neuroNet[\"mse\"]       = 0.005\n",
    "dictModel_neuroNet[\"features\"]  = [\"hr\",\"hum\",\"temp\"]\n",
    "dictModel_neuroNet[\"target\"]    = [\"cnt\"]\n",
    "dictModel_neuroNet[\"dataNormalised\"]    = True"
   ]
  },
  {
   "cell_type": "markdown",
   "metadata": {},
   "source": [
    "# Выводы"
   ]
  },
  {
   "cell_type": "markdown",
   "metadata": {},
   "source": [
    "Для выполнения лабораторной работы данные были нормализованы с помощью функции OrdinalEncoder().\n",
    "В ходе выполнения лабораторной работы были построены и обучены следующие виды моделей:\n",
    "\n",
    "- Нейронная сеть (классический перцептрон). Количество узлов входного слоя равно количеству независимых переменных (3). Количество узлов выходного слоя равно количеству целевых переменных (1). Нейросеть была обучена за 26 итерации. Был получен коэффициент детерминации, равный 0.91, mae - 0.05.\n",
    "\n",
    "- Модель линейной множественной регрессии была построена на следующих независимых переменных: время суток (hr), влажность (hum), температура (temp) и целевой переменной количество клиентов (cnt). Был получен коэффициент детерминации, равный 0.33, mae - 0.15. \n",
    "\n",
    "- Дерево регрессии глубиной 7 имеет коэффициент детерминации 0.61, mae - 0."
   ]
  },
  {
   "cell_type": "code",
   "execution_count": null,
   "metadata": {},
   "outputs": [],
   "source": []
  }
 ],
 "metadata": {
  "kernelspec": {
   "display_name": "Python 2",
   "language": "python",
   "name": "python2"
  },
  "language_info": {
   "codemirror_mode": {
    "name": "ipython",
    "version": 2
   },
   "file_extension": ".py",
   "mimetype": "text/x-python",
   "name": "python",
   "nbconvert_exporter": "python",
   "pygments_lexer": "ipython2",
   "version": "2.7.16"
  }
 },
 "nbformat": 4,
 "nbformat_minor": 2
}
